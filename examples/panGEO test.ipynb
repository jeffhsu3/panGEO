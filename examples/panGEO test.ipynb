{
 "metadata": {
  "name": "panGEO test"
 },
 "nbformat": 3,
 "nbformat_minor": 0,
 "worksheets": [
  {
   "cells": [
    {
     "cell_type": "code",
     "collapsed": true,
     "input": [
      "import matplotlib.pyplot as plt\n",
      "import scipy.stats as scist\n",
      "import pandas as pd\n",
      "import numpy as np\n",
      "import panGEO as pg"
     ],
     "language": "python",
     "metadata": {},
     "outputs": [],
     "prompt_number": 1
    },
    {
     "cell_type": "code",
     "collapsed": false,
     "input": [
      "#data = pg.getGEO('GSE23541')\n",
      "data = pg.parseGSE('/home/hsuj/data/GSE23541')\n",
      "#data = pg.parseGSE('/home/hsuj/data/public_GEO/GSE19926.gz')"
     ],
     "language": "python",
     "metadata": {},
     "outputs": [],
     "prompt_number": 2
    },
    {
     "cell_type": "markdown",
     "metadata": {},
     "source": [
      "For some reason this has no meta information"
     ]
    },
    {
     "cell_type": "code",
     "collapsed": false,
     "input": [
      "data.gpls.ix[:,4].head()"
     ],
     "language": "python",
     "metadata": {},
     "outputs": [
      {
       "output_type": "pyout",
       "prompt_number": 3,
       "text": [
        "ID\n",
        "ILMN_2659724     GPR135\n",
        "ILMN_2706226    OLFR811\n",
        "ILMN_1217123    ZFPN1A2\n",
        "ILMN_2780205     CTNNA1\n",
        "ILMN_2713160      RTCD1\n",
        "Name: ILMN_Gene"
       ]
      }
     ],
     "prompt_number": 3
    },
    {
     "cell_type": "code",
     "collapsed": false,
     "input": [
      "data.gsms['GPL6885'].ix[1:5,0:2]"
     ],
     "language": "python",
     "metadata": {},
     "outputs": [
      {
       "html": [
        "<div style=\"max-height:1000px;max-width:1500px;overflow:auto;\">\n",
        "<table border=\"1\">\n",
        "  <thead>\n",
        "    <tr>\n",
        "      <th><table><tbody><tr><td>sample</td></tr><tr><td>info</td></tr></tbody></table></th>\n",
        "      <th><table><tbody><tr><td>Aurka_R_+Dox_rep1</td></tr><tr><td>VALUE</td></tr></tbody></table></th>\n",
        "      <th><table><tbody><tr><td>Aurka_R_+Dox_rep1</td></tr><tr><td>Detection Pval</td></tr></tbody></table></th>\n",
        "    </tr>\n",
        "    <tr>\n",
        "      <th>ID_REF</th>\n",
        "      <th></th>\n",
        "      <th></th>\n",
        "    </tr>\n",
        "  </thead>\n",
        "  <tbody>\n",
        "    <tr>\n",
        "      <td><strong>ILMN_2588051</strong></td>\n",
        "      <td> 13.564899</td>\n",
        "      <td> 0.00000</td>\n",
        "    </tr>\n",
        "    <tr>\n",
        "      <td><strong>ILMN_1377921</strong></td>\n",
        "      <td> 14.480470</td>\n",
        "      <td> 0.00000</td>\n",
        "    </tr>\n",
        "    <tr>\n",
        "      <td><strong>ILMN_2588053</strong></td>\n",
        "      <td> 14.224405</td>\n",
        "      <td> 0.00000</td>\n",
        "    </tr>\n",
        "    <tr>\n",
        "      <td><strong>ILMN_1377923</strong></td>\n",
        "      <td>  7.824770</td>\n",
        "      <td> 0.02256</td>\n",
        "    </tr>\n",
        "  </tbody>\n",
        "</table>\n",
        "</div>"
       ],
       "output_type": "pyout",
       "prompt_number": 4,
       "text": [
        "sample        Aurka_R_+Dox_rep1                \n",
        "info                      VALUE  Detection Pval\n",
        "ID_REF                                         \n",
        "ILMN_2588051          13.564899         0.00000\n",
        "ILMN_1377921          14.480470         0.00000\n",
        "ILMN_2588053          14.224405         0.00000\n",
        "ILMN_1377923           7.824770         0.02256"
       ]
      }
     ],
     "prompt_number": 4
    },
    {
     "cell_type": "code",
     "collapsed": false,
     "input": [
      "data.gpls.ix[:,4].head()"
     ],
     "language": "python",
     "metadata": {},
     "outputs": [
      {
       "output_type": "pyout",
       "prompt_number": 5,
       "text": [
        "ID\n",
        "ILMN_2659724     GPR135\n",
        "ILMN_2706226    OLFR811\n",
        "ILMN_1217123    ZFPN1A2\n",
        "ILMN_2780205     CTNNA1\n",
        "ILMN_2713160      RTCD1\n",
        "Name: ILMN_Gene"
       ]
      }
     ],
     "prompt_number": 5
    },
    {
     "cell_type": "code",
     "collapsed": false,
     "input": [
      "def _temp(row):\n",
      "    \"\"\"\n",
      "    \"\"\"\n",
      "    pass\n",
      "\n",
      "    "
     ],
     "language": "python",
     "metadata": {},
     "outputs": [
      {
       "output_type": "pyout",
       "prompt_number": 27,
       "text": [
        "{}"
       ]
      }
     ],
     "prompt_number": 27
    },
    {
     "cell_type": "code",
     "collapsed": true,
     "input": [
      "def detection(GSE, threshold = 0.05, samples = None):\n",
      "    \"\"\" Returns dataframe with only rows that have significant quantification of the assay.  For Illumina \n",
      "    microarrays this is the detection p-value.  \n",
      "    \n",
      "    usage: smaller_dataframe = detection(GSE_object)\n",
      "    \"\"\"\n",
      "    platforms = GSE.gsms.keys()\n",
      "\n",
      "    data = GSE.gsms[platforms[0]]\n",
      "    \n",
      "    if samples == None:\n",
      "        # 2 is the detection value \n",
      "        samples = data.shape[1]/4\n",
      "    print(samples)\n",
      "    detection = data.ix[:,1::2].apply(lambda x: np.sum(x < threshold) > samples, axis=1)\n",
      "    \n",
      "    return data.ix[detection, 0::2]"
     ],
     "language": "python",
     "metadata": {},
     "outputs": [],
     "prompt_number": 6
    },
    {
     "cell_type": "code",
     "collapsed": false,
     "input": [
      "data.gsms['GPL6885'].shape"
     ],
     "language": "python",
     "metadata": {},
     "outputs": [
      {
       "output_type": "pyout",
       "prompt_number": 7,
       "text": [
        "(25697, 24)"
       ]
      }
     ],
     "prompt_number": 7
    },
    {
     "cell_type": "code",
     "collapsed": true,
     "input": [
      "what = detection(data)"
     ],
     "language": "python",
     "metadata": {},
     "outputs": [
      {
       "output_type": "stream",
       "stream": "stdout",
       "text": [
        "6\n"
       ]
      }
     ],
     "prompt_number": 8
    },
    {
     "cell_type": "code",
     "collapsed": false,
     "input": [
      "print(what.shape)\n",
      "print(data.gsms['GPL6885'].shape)"
     ],
     "language": "python",
     "metadata": {},
     "outputs": [
      {
       "output_type": "stream",
       "stream": "stdout",
       "text": [
        "(12558, 12)\n",
        "(25697, 24)\n"
       ]
      }
     ],
     "prompt_number": 9
    },
    {
     "cell_type": "code",
     "collapsed": false,
     "input": [
      "what.apply(np.mean)"
     ],
     "language": "python",
     "metadata": {},
     "outputs": [
      {
       "output_type": "pyout",
       "prompt_number": 10,
       "text": [
        "sample               info \n",
        "Aurka_R_+Dox_rep1    VALUE    9.028596\n",
        "Aurka_R_+Dox_rep2    VALUE    9.028261\n",
        "Aurka_R_+Dox_rep3    VALUE    9.026306\n",
        "Aurka_R_-Dox_rep1    VALUE    9.027217\n",
        "Aurka_R_-Dox_rep2    VALUE    9.027246\n",
        "Aurka_R_-Dox_rep3    VALUE    9.027566\n",
        "Control_R_+Dox_rep1  VALUE    9.024610\n",
        "Control_R_+Dox_rep2  VALUE    9.025583\n",
        "Control_R_+Dox_rep3  VALUE    9.026448\n",
        "Control_R_-Dox_rep1  VALUE    9.029123\n",
        "Control_R_-Dox_rep2  VALUE    9.026362\n",
        "Control_R_-Dox_rep3  VALUE    9.027749"
       ]
      }
     ],
     "prompt_number": 10
    },
    {
     "cell_type": "code",
     "collapsed": false,
     "input": [
      "pd.apply(data.gsms['GPL6246'])"
     ],
     "language": "python",
     "metadata": {},
     "outputs": [
      {
       "ename": "NameError",
       "evalue": "name 'pd' is not defined",
       "output_type": "pyerr",
       "traceback": [
        "\u001b[1;31m---------------------------------------------------------------------------\u001b[0m\n\u001b[1;31mNameError\u001b[0m                                 Traceback (most recent call last)",
        "\u001b[1;32m<ipython-input-18-ee2c6c35f573>\u001b[0m in \u001b[0;36m<module>\u001b[1;34m()\u001b[0m\n\u001b[1;32m----> 1\u001b[1;33m \u001b[0mpd\u001b[0m\u001b[1;33m.\u001b[0m\u001b[0mapply\u001b[0m\u001b[1;33m(\u001b[0m\u001b[0mdata\u001b[0m\u001b[1;33m.\u001b[0m\u001b[0mgsms\u001b[0m\u001b[1;33m[\u001b[0m\u001b[1;34m'GPL6246'\u001b[0m\u001b[1;33m]\u001b[0m\u001b[1;33m)\u001b[0m\u001b[1;33m\u001b[0m\u001b[0m\n\u001b[0m",
        "\u001b[1;31mNameError\u001b[0m: name 'pd' is not defined"
       ]
      }
     ],
     "prompt_number": 18
    },
    {
     "cell_type": "code",
     "collapsed": false,
     "input": [
      "data.data.head()"
     ],
     "language": "python",
     "metadata": {},
     "outputs": [
      {
       "output_type": "pyout",
       "prompt_number": 20,
       "text": [
        "<class 'pandas.core.frame.DataFrame'>\n",
        "Int64Index: 5 entries, 10344614 to 10344624\n",
        "Data columns:\n",
        "('nMncN1', 'VALUE')    5  non-null values\n",
        "('nMncN2', 'VALUE')    5  non-null values\n",
        "('nMncN3', 'VALUE')    5  non-null values\n",
        "('nMncN4', 'VALUE')    5  non-null values\n",
        "('IMncN1', 'VALUE')    5  non-null values\n",
        "('IMncN2', 'VALUE')    5  non-null values\n",
        "('IMncN3', 'VALUE')    5  non-null values\n",
        "('IMncN4', 'VALUE')    5  non-null values\n",
        "dtypes: float64(8)"
       ]
      }
     ],
     "prompt_number": 20
    },
    {
     "cell_type": "code",
     "collapsed": false,
     "input": [
      "data.data.apply(np.mean, axis = 0)"
     ],
     "language": "python",
     "metadata": {},
     "outputs": [
      {
       "output_type": "pyout",
       "prompt_number": 23,
       "text": [
        "sample  info \n",
        "nMncN1  VALUE    6.501301\n",
        "nMncN2  VALUE    6.521181\n",
        "nMncN3  VALUE    6.536974\n",
        "nMncN4  VALUE    6.529553\n",
        "IMncN1  VALUE    6.478498\n",
        "IMncN2  VALUE    6.497422\n",
        "IMncN3  VALUE    6.490183\n",
        "IMncN4  VALUE    6.502226"
       ]
      }
     ],
     "prompt_number": 23
    },
    {
     "cell_type": "code",
     "collapsed": false,
     "input": [
      "data.data.apply(np.stdev, axis = 0)"
     ],
     "language": "python",
     "metadata": {},
     "outputs": [
      {
       "ename": "AttributeError",
       "evalue": "'module' object has no attribute 'stdev'",
       "output_type": "pyerr",
       "traceback": [
        "\u001b[1;31m---------------------------------------------------------------------------\u001b[0m\n\u001b[1;31mAttributeError\u001b[0m                            Traceback (most recent call last)",
        "\u001b[1;32m<ipython-input-25-eca8b5cf85b7>\u001b[0m in \u001b[0;36m<module>\u001b[1;34m()\u001b[0m\n\u001b[1;32m----> 1\u001b[1;33m \u001b[0mdata\u001b[0m\u001b[1;33m.\u001b[0m\u001b[0mdata\u001b[0m\u001b[1;33m.\u001b[0m\u001b[0mapply\u001b[0m\u001b[1;33m(\u001b[0m\u001b[0mnp\u001b[0m\u001b[1;33m.\u001b[0m\u001b[0mstdev\u001b[0m\u001b[1;33m,\u001b[0m \u001b[0maxis\u001b[0m \u001b[1;33m=\u001b[0m \u001b[1;36m0\u001b[0m\u001b[1;33m)\u001b[0m\u001b[1;33m\u001b[0m\u001b[0m\n\u001b[0m",
        "\u001b[1;31mAttributeError\u001b[0m: 'module' object has no attribute 'stdev'"
       ]
      }
     ],
     "prompt_number": 25
    },
    {
     "cell_type": "code",
     "collapsed": false,
     "input": [
      "y, binedges = np.histogram(what.ix[:,0])"
     ],
     "language": "python",
     "metadata": {},
     "outputs": [],
     "prompt_number": 11
    },
    {
     "cell_type": "code",
     "collapsed": false,
     "input": [
      "bincenters = 0.5*(binedges[1:]+binedges[:-1])"
     ],
     "language": "python",
     "metadata": {},
     "outputs": [],
     "prompt_number": 14
    },
    {
     "cell_type": "code",
     "collapsed": false,
     "input": [
      "plot(bincenters, y, '-')"
     ],
     "language": "python",
     "metadata": {},
     "outputs": [
      {
       "output_type": "pyout",
       "prompt_number": 15,
       "text": [
        "[<matplotlib.lines.Line2D at 0x54e2d10>]"
       ]
      },
      {
       "output_type": "display_data",
       "png": "[encoded data removed]"
      }
     ],
     "prompt_number": 15
    },
    {
     "cell_type": "code",
     "collapsed": false,
     "input": [
      "def histogram_edges(x, **kwargs):\n",
      "    _, edges = np.histogram(x, **kwargs)\n",
      "    return edges[0]\n"
     ],
     "language": "python",
     "metadata": {},
     "outputs": [],
     "prompt_number": 35
    },
    {
     "cell_type": "code",
     "collapsed": false,
     "input": [
      "histogram_edges(what.ix[:,1], bins=50)"
     ],
     "language": "python",
     "metadata": {},
     "outputs": [
      {
       "output_type": "pyout",
       "prompt_number": 36,
       "text": [
        "7.5263324310000002"
       ]
      }
     ],
     "prompt_number": 36
    },
    {
     "cell_type": "code",
     "collapsed": false,
     "input": [
      "def histogram_frame(dataframe):\n",
      "    \"\"\" Hack\n",
      "    \"\"\"\n",
      "    '''\n",
      "    for x in dataframe:\n",
      "        x = np.asarray(dataframe[x])\n",
      "        y, bin_edges = np.histogram(x)\n",
      "        bincenters = 0.5*(bin_edges[1:]+bin_edges[:-1])\n",
      "        plot(bincenters, y, '-')\n",
      "    '''\n",
      "    \n",
      "        \n",
      "    hist_data = [np.histogram(dataframe[x], bins=50) for x in dataframe]\n",
      "    #return(bin_edges)\n",
      "    for i, j in hist_data:\n",
      "        j = bincenters = 0.5*(j[1:]+j[:-1])\n",
      "        plot(j, i, '-')"
     ],
     "language": "python",
     "metadata": {},
     "outputs": [],
     "prompt_number": 77
    },
    {
     "cell_type": "code",
     "collapsed": false,
     "input": [
      "histogram_frame(what)"
     ],
     "language": "python",
     "metadata": {},
     "outputs": [
      {
       "output_type": "display_data",
       "png": "[encoded data removed]"
      }
     ],
     "prompt_number": 78
    },
    {
     "cell_type": "code",
     "collapsed": false,
     "input": [
      "hmm"
     ],
     "language": "python",
     "metadata": {},
     "outputs": [
      {
       "output_type": "pyout",
       "prompt_number": 55,
       "text": [
        "[('Aurka_R_+Dox_rep1', 'VALUE'),\n",
        " ('Aurka_R_+Dox_rep2', 'VALUE'),\n",
        " ('Aurka_R_+Dox_rep3', 'VALUE'),\n",
        " ('Aurka_R_-Dox_rep1', 'VALUE'),\n",
        " ('Aurka_R_-Dox_rep2', 'VALUE'),\n",
        " ('Aurka_R_-Dox_rep3', 'VALUE'),\n",
        " ('Control_R_+Dox_rep1', 'VALUE'),\n",
        " ('Control_R_+Dox_rep2', 'VALUE'),\n",
        " ('Control_R_+Dox_rep3', 'VALUE'),\n",
        " ('Control_R_-Dox_rep1', 'VALUE'),\n",
        " ('Control_R_-Dox_rep2', 'VALUE'),\n",
        " ('Control_R_-Dox_rep3', 'VALUE')]"
       ]
      }
     ],
     "prompt_number": 55
    },
    {
     "cell_type": "code",
     "collapsed": false,
     "input": [
      "len(hmm)"
     ],
     "language": "python",
     "metadata": {},
     "outputs": [
      {
       "output_type": "pyout",
       "prompt_number": 44,
       "text": [
        "2"
       ]
      }
     ],
     "prompt_number": 44
    },
    {
     "cell_type": "code",
     "collapsed": false,
     "input": [],
     "language": "python",
     "metadata": {},
     "outputs": []
    }
   ],
   "metadata": {}
  }
 ]
}