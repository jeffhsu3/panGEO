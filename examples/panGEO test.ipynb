{
 "metadata": {
  "name": "panGEO test"
 },
 "nbformat": 3,
 "nbformat_minor": 0,
 "worksheets": [
  {
   "cells": [
    {
     "cell_type": "code",
     "collapsed": true,
     "input": [
      "import matplotlib.pyplot as plt\n",
      "import pandas as pd\n",
      "import numpy as np\n",
      "import panGEO as pg"
     ],
     "language": "python",
     "metadata": {},
     "outputs": [],
     "prompt_number": 22
    },
    {
     "cell_type": "code",
     "collapsed": false,
     "input": [
      "#data = pg.getGEO('GSE23541')\n",
      "data = pg.parseGSE('/home/jeff/data/public_GEO/GSE19926.gz')"
     ],
     "language": "python",
     "metadata": {},
     "outputs": [
      {
       "output_type": "stream",
       "stream": "stdout",
       "text": [
        "[33382728, 638328, 638411, 638319, 638260, 638332, 638420, 638362, None]\n",
        "[(2101, '^PLATFORM'), (33384829, '^SAMPLE'), (34023157, '^SAMPLE'), (34661568, '^SAMPLE'), (35299887, '^SAMPLE'), (35938147, '^SAMPLE'), (36576479, '^SAMPLE'), (37214899, '^SAMPLE'), (37853261, '^SAMPLE')]\n"
       ]
      }
     ],
     "prompt_number": 2
    },
    {
     "cell_type": "markdown",
     "metadata": {},
     "source": [
      "For some reason this has no meta information"
     ]
    },
    {
     "cell_type": "code",
     "collapsed": false,
     "input": [
      "data.data"
     ],
     "language": "python",
     "metadata": {},
     "outputs": [
      {
       "output_type": "pyout",
       "prompt_number": 3,
       "text": [
        "<class 'pandas.core.frame.DataFrame'>\n",
        "Int64Index: 35557 entries, 10344614 to 10608440\n",
        "Data columns:\n",
        "('nMncN1', 'VALUE')    35557  non-null values\n",
        "('nMncN2', 'VALUE')    35557  non-null values\n",
        "('nMncN3', 'VALUE')    35557  non-null values\n",
        "('nMncN4', 'VALUE')    35557  non-null values\n",
        "('IMncN1', 'VALUE')    35557  non-null values\n",
        "('IMncN2', 'VALUE')    35557  non-null values\n",
        "('IMncN3', 'VALUE')    35557  non-null values\n",
        "('IMncN4', 'VALUE')    35557  non-null values\n",
        "dtypes: float64(8)"
       ]
      }
     ],
     "prompt_number": 3
    },
    {
     "cell_type": "code",
     "collapsed": false,
     "input": [
      "data.gpls"
     ],
     "language": "python",
     "metadata": {},
     "outputs": [
      {
       "output_type": "pyout",
       "prompt_number": 4,
       "text": [
        "<class 'pandas.core.frame.DataFrame'>\n",
        "Int64Index: 35557 entries, 10344614 to 10344613\n",
        "Data columns:\n",
        "GB_LIST            24734  non-null values\n",
        "SPOT_ID            35557  non-null values\n",
        "seqname            35556  non-null values\n",
        "RANGE_GB           28648  non-null values\n",
        "RANGE_STRAND       35556  non-null values\n",
        "RANGE_START        35556  non-null values\n",
        "RANGE_STOP         35556  non-null values\n",
        "total_probes       35556  non-null values\n",
        "gene_assignment    35549  non-null values\n",
        "mrna_assignment    35549  non-null values\n",
        "category           35549  non-null values\n",
        "dtypes: object(11)"
       ]
      }
     ],
     "prompt_number": 4
    },
    {
     "cell_type": "code",
     "collapsed": false,
     "input": [
      "data.gpls.ix[:,\"gene_assignment\"].head()"
     ],
     "language": "python",
     "metadata": {},
     "outputs": [
      {
       "output_type": "pyout",
       "prompt_number": 5,
       "text": [
        "ID\n",
        "10344614                                                  ---\n",
        "10344616                                                  ---\n",
        "10344618                                                  ---\n",
        "10344620    ENSMUST00000097833 // Gm10568 // predicted gene 1\n",
        "10344622    ENSMUST00000097833 // Gm10568 // predicted gene 1\n",
        "Name: gene_assignment"
       ]
      }
     ],
     "prompt_number": 5
    },
    {
     "cell_type": "code",
     "collapsed": true,
     "input": [
      "def detection(GSE, threshold = 0.05):\n",
      "    \"\"\" Returns dataframe with only rows that have significant quantification of the assay\n",
      "    \n",
      "    usage: smaller_dataframe = detection(GSE_object)\n",
      "    \"\"\"\n",
      "    platforms = GSE.gsms.keys()\n",
      "    \n",
      "    data = GSE.gsms[platforms[0]]\n",
      "    data = detection\n",
      "    \n",
      "    \n",
      "    \n",
      "    return dataframe"
     ],
     "language": "python",
     "metadata": {},
     "outputs": [],
     "prompt_number": 6
    },
    {
     "cell_type": "code",
     "collapsed": false,
     "input": [
      "data.gsms['GPL6246'].columns"
     ],
     "language": "python",
     "metadata": {},
     "outputs": [
      {
       "output_type": "pyout",
       "prompt_number": 9,
       "text": [
        "MultiIndex\n",
        "[('nMncN1', 'VALUE') ('nMncN2', 'VALUE') ('nMncN3', 'VALUE')\n",
        " ('nMncN4', 'VALUE') ('IMncN1', 'VALUE') ('IMncN2', 'VALUE')\n",
        " ('IMncN3', 'VALUE') ('IMncN4', 'VALUE')]"
       ]
      }
     ],
     "prompt_number": 9
    },
    {
     "cell_type": "code",
     "collapsed": true,
     "input": [
      "data.gsms['GPL6246']."
     ],
     "language": "python",
     "metadata": {},
     "outputs": [
      {
       "output_type": "pyout",
       "prompt_number": 10,
       "text": [
        "<class 'pandas.core.frame.DataFrame'>\n",
        "Int64Index: 35557 entries, 10344614 to 10608440\n",
        "Data columns:\n",
        "('nMncN1', 'VALUE')    35557  non-null values\n",
        "('nMncN2', 'VALUE')    35557  non-null values\n",
        "('nMncN3', 'VALUE')    35557  non-null values\n",
        "('nMncN4', 'VALUE')    35557  non-null values\n",
        "('IMncN1', 'VALUE')    35557  non-null values\n",
        "('IMncN2', 'VALUE')    35557  non-null values\n",
        "('IMncN3', 'VALUE')    35557  non-null values\n",
        "('IMncN4', 'VALUE')    35557  non-null values\n",
        "dtypes: float64(8)"
       ]
      }
     ],
     "prompt_number": 10
    },
    {
     "cell_type": "code",
     "collapsed": false,
     "input": [
      "hist(data.gsms['GPL6246'].ix[:,1])"
     ],
     "language": "python",
     "metadata": {},
     "outputs": [
      {
       "output_type": "pyout",
       "prompt_number": 13,
       "text": [
        "(array([2839, 5467, 7934, 7717, 5592, 3268, 1628,  763,  293,   56]),\n",
        " array([  2.671179 ,   3.8232161,   4.9752532,   6.1272903,   7.2793274,\n",
        "         8.4313645,   9.5834016,  10.7354387,  11.8874758,  13.0395129,\n",
        "        14.19155  ]),\n",
        " <a list of 10 Patch objects>)"
       ]
      },
      {
       "output_type": "display_data",
       "png": "[encoded data removed]"
      }
     ],
     "prompt_number": 13
    },
    {
     "cell_type": "code",
     "collapsed": false,
     "input": [
      "pd.apply(data.gsms['GPL6246'])"
     ],
     "language": "python",
     "metadata": {},
     "outputs": [
      {
       "ename": "NameError",
       "evalue": "name 'pd' is not defined",
       "output_type": "pyerr",
       "traceback": [
        "\u001b[1;31m---------------------------------------------------------------------------\u001b[0m\n\u001b[1;31mNameError\u001b[0m                                 Traceback (most recent call last)",
        "\u001b[1;32m<ipython-input-18-ee2c6c35f573>\u001b[0m in \u001b[0;36m<module>\u001b[1;34m()\u001b[0m\n\u001b[1;32m----> 1\u001b[1;33m \u001b[0mpd\u001b[0m\u001b[1;33m.\u001b[0m\u001b[0mapply\u001b[0m\u001b[1;33m(\u001b[0m\u001b[0mdata\u001b[0m\u001b[1;33m.\u001b[0m\u001b[0mgsms\u001b[0m\u001b[1;33m[\u001b[0m\u001b[1;34m'GPL6246'\u001b[0m\u001b[1;33m]\u001b[0m\u001b[1;33m)\u001b[0m\u001b[1;33m\u001b[0m\u001b[0m\n\u001b[0m",
        "\u001b[1;31mNameError\u001b[0m: name 'pd' is not defined"
       ]
      }
     ],
     "prompt_number": 18
    },
    {
     "cell_type": "code",
     "collapsed": false,
     "input": [
      "data.data.head()"
     ],
     "language": "python",
     "metadata": {},
     "outputs": [
      {
       "output_type": "pyout",
       "prompt_number": 20,
       "text": [
        "<class 'pandas.core.frame.DataFrame'>\n",
        "Int64Index: 5 entries, 10344614 to 10344624\n",
        "Data columns:\n",
        "('nMncN1', 'VALUE')    5  non-null values\n",
        "('nMncN2', 'VALUE')    5  non-null values\n",
        "('nMncN3', 'VALUE')    5  non-null values\n",
        "('nMncN4', 'VALUE')    5  non-null values\n",
        "('IMncN1', 'VALUE')    5  non-null values\n",
        "('IMncN2', 'VALUE')    5  non-null values\n",
        "('IMncN3', 'VALUE')    5  non-null values\n",
        "('IMncN4', 'VALUE')    5  non-null values\n",
        "dtypes: float64(8)"
       ]
      }
     ],
     "prompt_number": 20
    },
    {
     "cell_type": "code",
     "collapsed": false,
     "input": [
      "data.data.apply(np.mean, axis = 0)"
     ],
     "language": "python",
     "metadata": {},
     "outputs": [
      {
       "output_type": "pyout",
       "prompt_number": 23,
       "text": [
        "sample  info \n",
        "nMncN1  VALUE    6.501301\n",
        "nMncN2  VALUE    6.521181\n",
        "nMncN3  VALUE    6.536974\n",
        "nMncN4  VALUE    6.529553\n",
        "IMncN1  VALUE    6.478498\n",
        "IMncN2  VALUE    6.497422\n",
        "IMncN3  VALUE    6.490183\n",
        "IMncN4  VALUE    6.502226"
       ]
      }
     ],
     "prompt_number": 23
    },
    {
     "cell_type": "code",
     "collapsed": false,
     "input": [
      "data.data.apply(np.stdev, axis = 0)"
     ],
     "language": "python",
     "metadata": {},
     "outputs": [
      {
       "ename": "AttributeError",
       "evalue": "'module' object has no attribute 'stdev'",
       "output_type": "pyerr",
       "traceback": [
        "\u001b[1;31m---------------------------------------------------------------------------\u001b[0m\n\u001b[1;31mAttributeError\u001b[0m                            Traceback (most recent call last)",
        "\u001b[1;32m<ipython-input-25-eca8b5cf85b7>\u001b[0m in \u001b[0;36m<module>\u001b[1;34m()\u001b[0m\n\u001b[1;32m----> 1\u001b[1;33m \u001b[0mdata\u001b[0m\u001b[1;33m.\u001b[0m\u001b[0mdata\u001b[0m\u001b[1;33m.\u001b[0m\u001b[0mapply\u001b[0m\u001b[1;33m(\u001b[0m\u001b[0mnp\u001b[0m\u001b[1;33m.\u001b[0m\u001b[0mstdev\u001b[0m\u001b[1;33m,\u001b[0m \u001b[0maxis\u001b[0m \u001b[1;33m=\u001b[0m \u001b[1;36m0\u001b[0m\u001b[1;33m)\u001b[0m\u001b[1;33m\u001b[0m\u001b[0m\n\u001b[0m",
        "\u001b[1;31mAttributeError\u001b[0m: 'module' object has no attribute 'stdev'"
       ]
      }
     ],
     "prompt_number": 25
    },
    {
     "cell_type": "code",
     "collapsed": false,
     "input": [],
     "language": "python",
     "metadata": {},
     "outputs": []
    }
   ],
   "metadata": {}
  }
 ]
}